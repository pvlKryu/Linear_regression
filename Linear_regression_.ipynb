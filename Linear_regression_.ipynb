{
  "nbformat": 4,
  "nbformat_minor": 0,
  "metadata": {
    "colab": {
      "name": "Linear_regression_",
      "provenance": [],
      "collapsed_sections": [],
      "authorship_tag": "ABX9TyOIG3o9ZQxNqFnjUaE03oV/",
      "include_colab_link": true
    },
    "kernelspec": {
      "name": "python3",
      "display_name": "Python 3"
    },
    "language_info": {
      "name": "python"
    }
  },
  "cells": [
    {
      "cell_type": "markdown",
      "metadata": {
        "id": "view-in-github",
        "colab_type": "text"
      },
      "source": [
        "<a href=\"https://colab.research.google.com/github/pvlKryu/Linear_regression/blob/main/Linear_regression_.ipynb\" target=\"_parent\"><img src=\"https://colab.research.google.com/assets/colab-badge.svg\" alt=\"Open In Colab\"/></a>"
      ]
    },
    {
      "cell_type": "markdown",
      "source": [
        "#Data preparation"
      ],
      "metadata": {
        "id": "uTjnAkfbb-zL"
      }
    },
    {
      "cell_type": "code",
      "execution_count": null,
      "metadata": {
        "id": "_iLtz3rOIG3V"
      },
      "outputs": [],
      "source": [
        "import pandas as pd \n",
        "import matplotlib.pyplot as plt\n",
        "import numpy as np\n",
        "from sklearn.model_selection import train_test_split\n",
        "from sklearn import metrics\n",
        "from sklearn.preprocessing import StandardScaler\n",
        "from sklearn.metrics import mean_squared_error\n",
        "from sklearn.linear_model import LinearRegression\n",
        "\n",
        "!pip install gdown\n",
        "!gdown 1RtXyuP27pffnvyvKNT6kT8_4KnniShvN\n",
        "\n",
        "df = pd.read_csv('./house_prices.csv')\n",
        "df"
      ]
    },
    {
      "cell_type": "code",
      "source": [
        "Df_train, Df_test = train_test_split(df, test_size=0.25, random_state=123)"
      ],
      "metadata": {
        "id": "w9-RHNdFEpeH"
      },
      "execution_count": 60,
      "outputs": []
    },
    {
      "cell_type": "code",
      "source": [
        "Y = df['SalePrice']\n",
        "df = df.drop(['SalePrice', 'Id'], axis=1) "
      ],
      "metadata": {
        "id": "1bhoGxxoIN4v"
      },
      "execution_count": 61,
      "outputs": []
    },
    {
      "cell_type": "code",
      "source": [
        "df.info()"
      ],
      "metadata": {
        "id": "AZTAd_UUYVwC"
      },
      "execution_count": null,
      "outputs": []
    },
    {
      "cell_type": "code",
      "source": [
        "df = pd.get_dummies(df) #It is expensive to throw in all categorical features without pre-processing, but the dataset is small"
      ],
      "metadata": {
        "id": "qVf1ImJxKGGT"
      },
      "execution_count": 63,
      "outputs": []
    },
    {
      "cell_type": "code",
      "source": [
        "df.info()"
      ],
      "metadata": {
        "id": "JQwIfH3BYYNr"
      },
      "execution_count": null,
      "outputs": []
    },
    {
      "cell_type": "code",
      "source": [
        "#Split the sample with the raw data\n",
        "X_train, X_test = train_test_split(df, test_size=0.25, random_state=123) #Separate features and X's\n",
        "y_train, y_test = train_test_split(Y, test_size=0.25, random_state=123) #We share targets"
      ],
      "metadata": {
        "id": "4jX8d8YtJNNC"
      },
      "execution_count": 65,
      "outputs": []
    },
    {
      "cell_type": "code",
      "source": [
        "df.fillna(X_train.mean(), inplace=True) #Fill in Nan in the Train selection itself"
      ],
      "metadata": {
        "id": "4fRF8bwVKVCl"
      },
      "execution_count": 66,
      "outputs": []
    },
    {
      "cell_type": "code",
      "source": [
        "#Divide the sample again, but with the processed data (filled in)\n",
        "X_train, X_test = train_test_split(df, test_size=0.25, random_state=123)\n",
        "#There is no point in splitting y again, because there was no missing data, nothing has changed"
      ],
      "metadata": {
        "id": "T4v70djKKjE2"
      },
      "execution_count": 67,
      "outputs": []
    },
    {
      "cell_type": "code",
      "source": [
        "#standard scaling by Train sample\n",
        "from sklearn.preprocessing import StandardScaler\n",
        "\n",
        "X_cols = ['MSSubClass', 'LotFrontage', 'LotArea', 'OverallQual', 'OverallCond', 'YearBuilt', 'YearRemodAdd', 'MasVnrArea', 'BsmtFinSF1', 'BsmtFinSF2', 'BsmtUnfSF', 'TotalBsmtSF', '1stFlrSF', '2ndFlrSF', 'LowQualFinSF', 'GrLivArea', 'BsmtFullBath', 'BsmtHalfBath', 'FullBath', 'HalfBath', 'BedroomAbvGr', 'KitchenAbvGr', 'TotRmsAbvGrd', 'Fireplaces', 'GarageYrBlt', 'GarageCars', 'GarageArea', 'WoodDeckSF', 'OpenPorchSF', 'EnclosedPorch', '3SsnPorch', 'ScreenPorch', 'PoolArea', 'MiscVal', 'MoSold', 'YrSold', 'MSZoning_C (all)', 'MSZoning_FV', 'MSZoning_RH', 'MSZoning_RL', 'MSZoning_RM', 'Street_Grvl', 'Street_Pave', 'Alley_Grvl', 'Alley_Pave', 'LotShape_IR1', 'LotShape_IR2', 'LotShape_IR3', 'LotShape_Reg', 'LandContour_Bnk', 'LandContour_HLS', 'LandContour_Low', 'LandContour_Lvl', 'Utilities_AllPub', 'Utilities_NoSeWa', 'LotConfig_Corner', 'LotConfig_CulDSac', 'LotConfig_FR2', 'LotConfig_FR3', 'LotConfig_Inside', 'LandSlope_Gtl', 'LandSlope_Mod', 'LandSlope_Sev', 'Neighborhood_Blmngtn', 'Neighborhood_Blueste', 'Neighborhood_BrDale', 'Neighborhood_BrkSide', 'Neighborhood_ClearCr', 'Neighborhood_CollgCr', 'Neighborhood_Crawfor', 'Neighborhood_Edwards', 'Neighborhood_Gilbert', 'Neighborhood_IDOTRR', 'Neighborhood_MeadowV', 'Neighborhood_Mitchel', 'Neighborhood_NAmes', 'Neighborhood_NPkVill', 'Neighborhood_NWAmes', 'Neighborhood_NoRidge', 'Neighborhood_NridgHt', 'Neighborhood_OldTown', 'Neighborhood_SWISU', 'Neighborhood_Sawyer', 'Neighborhood_SawyerW', 'Neighborhood_Somerst', 'Neighborhood_StoneBr', 'Neighborhood_Timber', 'Neighborhood_Veenker', 'Condition1_Artery', 'Condition1_Feedr', 'Condition1_Norm', 'Condition1_PosA', 'Condition1_PosN', 'Condition1_RRAe', 'Condition1_RRAn', 'Condition1_RRNe', 'Condition1_RRNn', 'Condition2_Artery', 'Condition2_Feedr', 'Condition2_Norm', 'Condition2_PosA', 'Condition2_PosN', 'Condition2_RRAe', 'Condition2_RRAn', 'Condition2_RRNn', 'BldgType_1Fam', 'BldgType_2fmCon', 'BldgType_Duplex', 'BldgType_Twnhs', 'BldgType_TwnhsE', 'HouseStyle_1.5Fin', 'HouseStyle_1.5Unf', 'HouseStyle_1Story', 'HouseStyle_2.5Fin', 'HouseStyle_2.5Unf', 'HouseStyle_2Story', 'HouseStyle_SFoyer', 'HouseStyle_SLvl', 'RoofStyle_Flat', 'RoofStyle_Gable', 'RoofStyle_Gambrel', 'RoofStyle_Hip', 'RoofStyle_Mansard', 'RoofStyle_Shed', 'RoofMatl_ClyTile', 'RoofMatl_CompShg', 'RoofMatl_Membran', 'RoofMatl_Metal', 'RoofMatl_Roll', 'RoofMatl_Tar&Grv', 'RoofMatl_WdShake', 'RoofMatl_WdShngl', 'Exterior1st_AsbShng', 'Exterior1st_AsphShn', 'Exterior1st_BrkComm', 'Exterior1st_BrkFace', 'Exterior1st_CBlock', 'Exterior1st_CemntBd', 'Exterior1st_HdBoard', 'Exterior1st_ImStucc', 'Exterior1st_MetalSd', 'Exterior1st_Plywood', 'Exterior1st_Stone', 'Exterior1st_Stucco', 'Exterior1st_VinylSd', 'Exterior1st_Wd Sdng', 'Exterior1st_WdShing', 'Exterior2nd_AsbShng', 'Exterior2nd_AsphShn', 'Exterior2nd_Brk Cmn', 'Exterior2nd_BrkFace', 'Exterior2nd_CBlock', 'Exterior2nd_CmentBd', 'Exterior2nd_HdBoard', 'Exterior2nd_ImStucc', 'Exterior2nd_MetalSd', 'Exterior2nd_Other', 'Exterior2nd_Plywood', 'Exterior2nd_Stone', 'Exterior2nd_Stucco', 'Exterior2nd_VinylSd', 'Exterior2nd_Wd Sdng', 'Exterior2nd_Wd Shng', 'MasVnrType_BrkCmn', 'MasVnrType_BrkFace', 'MasVnrType_None', 'MasVnrType_Stone', 'ExterQual_Ex', 'ExterQual_Fa', 'ExterQual_Gd', 'ExterQual_TA', 'ExterCond_Ex', 'ExterCond_Fa', 'ExterCond_Gd', 'ExterCond_Po', 'ExterCond_TA', 'Foundation_BrkTil', 'Foundation_CBlock', 'Foundation_PConc', 'Foundation_Slab', 'Foundation_Stone', 'Foundation_Wood', 'BsmtQual_Ex', 'BsmtQual_Fa', 'BsmtQual_Gd', 'BsmtQual_TA', 'BsmtCond_Fa', 'BsmtCond_Gd', 'BsmtCond_Po', 'BsmtCond_TA', 'BsmtExposure_Av', 'BsmtExposure_Gd', 'BsmtExposure_Mn', 'BsmtExposure_No', 'BsmtFinType1_ALQ', 'BsmtFinType1_BLQ', 'BsmtFinType1_GLQ', 'BsmtFinType1_LwQ', 'BsmtFinType1_Rec', 'BsmtFinType1_Unf', 'BsmtFinType2_ALQ', 'BsmtFinType2_BLQ', 'BsmtFinType2_GLQ', 'BsmtFinType2_LwQ', 'BsmtFinType2_Rec', 'BsmtFinType2_Unf', 'Heating_Floor', 'Heating_GasA', 'Heating_GasW', 'Heating_Grav', 'Heating_OthW', 'Heating_Wall', 'HeatingQC_Ex', 'HeatingQC_Fa', 'HeatingQC_Gd', 'HeatingQC_Po', 'HeatingQC_TA', 'CentralAir_N', 'CentralAir_Y', 'Electrical_FuseA', 'Electrical_FuseF', 'Electrical_FuseP', 'Electrical_Mix', 'Electrical_SBrkr', 'KitchenQual_Ex', 'KitchenQual_Fa', 'KitchenQual_Gd', 'KitchenQual_TA', 'Functional_Maj1', 'Functional_Maj2', 'Functional_Min1', 'Functional_Min2', 'Functional_Mod', 'Functional_Sev', 'Functional_Typ', 'FireplaceQu_Ex', 'FireplaceQu_Fa', 'FireplaceQu_Gd', 'FireplaceQu_Po', 'FireplaceQu_TA', 'GarageType_2Types', 'GarageType_Attchd', 'GarageType_Basment', 'GarageType_BuiltIn', 'GarageType_CarPort', 'GarageType_Detchd', 'GarageFinish_Fin', 'GarageFinish_RFn', 'GarageFinish_Unf', 'GarageQual_Ex', 'GarageQual_Fa', 'GarageQual_Gd', 'GarageQual_Po', 'GarageQual_TA', 'GarageCond_Ex', 'GarageCond_Fa', 'GarageCond_Gd', 'GarageCond_Po', 'GarageCond_TA', 'PavedDrive_N', 'PavedDrive_P', 'PavedDrive_Y', 'PoolQC_Ex', 'PoolQC_Fa', 'PoolQC_Gd', 'Fence_GdPrv', 'Fence_GdWo', 'Fence_MnPrv', 'Fence_MnWw', 'MiscFeature_Gar2', 'MiscFeature_Othr', 'MiscFeature_Shed', 'MiscFeature_TenC', 'SaleType_COD', 'SaleType_CWD', 'SaleType_Con', 'SaleType_ConLD', 'SaleType_ConLI', 'SaleType_ConLw', 'SaleType_New', 'SaleType_Oth', 'SaleType_WD', 'SaleCondition_Abnorml', 'SaleCondition_AdjLand', 'SaleCondition_Alloca', 'SaleCondition_Family', 'SaleCondition_Normal', 'SaleCondition_Partial']\n",
        "\n",
        "scaler = StandardScaler()\n",
        "\n",
        "X_train[X_cols] = scaler.fit_transform(X_train[X_cols])\n",
        "X_test[X_cols] = scaler.transform(X_test[X_cols])\n"
      ],
      "metadata": {
        "id": "UPDWhlMvZDc7"
      },
      "execution_count": 68,
      "outputs": []
    },
    {
      "cell_type": "code",
      "source": [
        "X_test[:10] #DATA \"CONDITIONALLY\" PREPARED\n"
      ],
      "metadata": {
        "id": "m39eWRhyZK9E"
      },
      "execution_count": null,
      "outputs": []
    },
    {
      "cell_type": "markdown",
      "source": [
        "#Models"
      ],
      "metadata": {
        "id": "B85bismlcTpF"
      }
    },
    {
      "cell_type": "markdown",
      "source": [
        "#sklearn"
      ],
      "metadata": {
        "id": "IklxshblcWyZ"
      }
    },
    {
      "cell_type": "code",
      "source": [
        "sklearn_lr = LinearRegression()\n",
        "sklearn_lr.fit(X_train, y_train)\n",
        "sklearn_lr.coef_, sklearn_lr.intercept_"
      ],
      "metadata": {
        "id": "T54S0Ns4caPc"
      },
      "execution_count": null,
      "outputs": []
    },
    {
      "cell_type": "code",
      "source": [
        "print(\"Train mse:\")\n",
        "mean_squared_error(y_train, sklearn_lr.predict(X_train), squared=False)"
      ],
      "metadata": {
        "id": "v6N0AeFpceHX",
        "colab": {
          "base_uri": "https://localhost:8080/"
        },
        "outputId": "1d588528-ea10-4f3c-8788-e68c657f7569"
      },
      "execution_count": 71,
      "outputs": [
        {
          "output_type": "stream",
          "name": "stdout",
          "text": [
            "Train mse:\n"
          ]
        },
        {
          "output_type": "execute_result",
          "data": {
            "text/plain": [
              "19306.85068414516"
            ]
          },
          "metadata": {},
          "execution_count": 71
        }
      ]
    },
    {
      "cell_type": "code",
      "source": [
        "print(\"Test mse:\")\n",
        "mean_squared_error(y_test, sklearn_lr.predict(X_test), squared=False)"
      ],
      "metadata": {
        "id": "7o3oBLricgR-",
        "colab": {
          "base_uri": "https://localhost:8080/"
        },
        "outputId": "895427ab-d004-4a85-c3ad-25565a642524"
      },
      "execution_count": 72,
      "outputs": [
        {
          "output_type": "stream",
          "name": "stdout",
          "text": [
            "Test mse:\n"
          ]
        },
        {
          "output_type": "execute_result",
          "data": {
            "text/plain": [
              "3.3287891454200028e+16"
            ]
          },
          "metadata": {},
          "execution_count": 72
        }
      ]
    },
    {
      "cell_type": "markdown",
      "source": [
        "###Self-written gradient descent"
      ],
      "metadata": {
        "id": "g3OiBYN6Jg5G"
      }
    },
    {
      "cell_type": "code",
      "source": [
        "#Convert data to NP\n",
        "X_train = X_train.to_numpy() \n",
        "y_train = y_train.to_numpy().transpose() \n",
        "\n",
        "X_test = X_test.to_numpy() \n",
        "y_test = y_test.to_numpy().transpose()  "
      ],
      "metadata": {
        "id": "5zVs0H1HOHnH"
      },
      "execution_count": 73,
      "outputs": []
    },
    {
      "cell_type": "code",
      "source": [
        "m1,n1 = X_train.shape\n",
        "m2,n2 = X_test.shape"
      ],
      "metadata": {
        "id": "iJZdqMwVb2H1"
      },
      "execution_count": 74,
      "outputs": []
    },
    {
      "cell_type": "code",
      "source": [
        "#Add columns from ones\n",
        "x1 = np.hstack((np.ones((m1, 1)), X_train))\n",
        "x2 = np.hstack((np.ones((m2, 1)), X_test))"
      ],
      "metadata": {
        "id": "3HURvKIvb5AR"
      },
      "execution_count": 75,
      "outputs": []
    },
    {
      "cell_type": "code",
      "source": [
        "theta1 = np.zeros((n1+1)) #By number of features + 1 column\n",
        "theta2 = np.zeros((n2+1))"
      ],
      "metadata": {
        "id": "11m6ipJOcH_v"
      },
      "execution_count": 76,
      "outputs": []
    },
    {
      "cell_type": "code",
      "source": [
        "max_steps = 30000\n",
        "alpha = 1e-10"
      ],
      "metadata": {
        "id": "kxAcARFLKUwz"
      },
      "execution_count": 77,
      "outputs": []
    },
    {
      "cell_type": "code",
      "source": [
        "def computeCost(X, y, theta):\n",
        "  m = len(y) \n",
        "  diff = np.matmul(X, theta) - y\n",
        "  J = 1 / (2 * m) * np.matmul(diff, diff)\n",
        "  return J"
      ],
      "metadata": {
        "id": "RP0uInMnKbbL"
      },
      "execution_count": 78,
      "outputs": []
    },
    {
      "cell_type": "code",
      "source": [
        "def gradientDescent(X, y, theta, alpha, num_iters):\n",
        "  m = len(y) \n",
        "  J_history = []\n",
        "\n",
        "  for i in range(num_iters):\n",
        "    hc = np.matmul(X, theta) - y\n",
        "    theta -= alpha / m * np.matmul(X.transpose(), hc)\n",
        "  \n",
        "    J_history.append(computeCost(X, y, theta))\n",
        "  return theta, J_history"
      ],
      "metadata": {
        "id": "guknZVEOKbdr"
      },
      "execution_count": 79,
      "outputs": []
    },
    {
      "cell_type": "code",
      "source": [
        "theta1, J_history1 = gradientDescent(x1, y_train, theta1, alpha, max_steps)\n",
        "theta2, J_history2 = gradientDescent(x2, y_test, theta2, alpha, max_steps)"
      ],
      "metadata": {
        "id": "m8N-9mFmKbgf"
      },
      "execution_count": 80,
      "outputs": []
    },
    {
      "cell_type": "code",
      "source": [
        "y_pred1 = np.matmul(x1, theta1)\n",
        "y_pred2 = np.matmul(x2, theta1)"
      ],
      "metadata": {
        "id": "TEehddSoKiFr"
      },
      "execution_count": 81,
      "outputs": []
    },
    {
      "cell_type": "code",
      "source": [
        "# get RMSE error rate\n",
        "print('Train MSE GD_Regressor: ',mean_squared_error(y_train, y_pred1, squared=False))\n",
        "print('Train mse sklearn: 19306.85068414516')\n",
        "print('Test MSE GD_Regressor: ',mean_squared_error(y_test, y_pred2, squared=False))\n",
        "print('Test mse sklearn: 3.3287891454200028e+16')"
      ],
      "metadata": {
        "id": "qAWEKSwVK0VM",
        "colab": {
          "base_uri": "https://localhost:8080/"
        },
        "outputId": "3d4c2c7a-2ac2-4ecb-97bd-4e0b8c0abc90"
      },
      "execution_count": 82,
      "outputs": [
        {
          "output_type": "stream",
          "name": "stdout",
          "text": [
            "Train MSE GD_Regressor:  197151.96183913611\n",
            "Train mse sklearn: 19306.85068414516\n",
            "Test MSE GD_Regressor:  198865.79451044145\n",
            "Test mse sklearn: 3.3287891454200028e+16\n"
          ]
        }
      ]
    },
    {
      "cell_type": "markdown",
      "source": [
        "###Ridge regression from sklearn for alpha(0.01, 0.1, 1.0)"
      ],
      "metadata": {
        "id": "3473LIW9l9hg"
      }
    },
    {
      "cell_type": "code",
      "source": [
        "from sklearn.linear_model import Ridge"
      ],
      "metadata": {
        "id": "oLkPllKmLl5J"
      },
      "execution_count": null,
      "outputs": []
    },
    {
      "cell_type": "code",
      "source": [
        "alphas = [0.01,0.1,1.0]\n",
        "ridge = Ridge(max_iter=30000)\n",
        "\n",
        "for a in alphas:\n",
        "    ridge.set_params(alpha=a)\n",
        "    ridge.fit(X_train, y_train)\n",
        "    print('alpha = ', a)\n",
        "    pred_train = ridge.predict(X_train)\n",
        "    print('MSE Train: ',mean_squared_error(y_train, pred_train)) \n",
        "    pred = ridge.predict(X_test)\n",
        "    print('MSE Test: ',mean_squared_error(y_test, pred)) "
      ],
      "metadata": {
        "colab": {
          "base_uri": "https://localhost:8080/"
        },
        "id": "7UpSzmU8s5WQ",
        "outputId": "2469120c-1da2-4953-90b0-5331bb74ebe4"
      },
      "execution_count": null,
      "outputs": [
        {
          "output_type": "stream",
          "name": "stdout",
          "text": [
            "alpha =  0.01\n",
            "MSE Train:  372713728.75460994\n",
            "MSE Test:  2650544980.8325644\n",
            "alpha =  0.1\n",
            "MSE Train:  376008937.09555733\n",
            "MSE Test:  1362889689.5029411\n",
            "alpha =  1.0\n",
            "MSE Train:  386458487.20393455\n",
            "MSE Test:  744733569.1878436\n"
          ]
        }
      ]
    },
    {
      "cell_type": "markdown",
      "source": [
        "###Lasso regression from sklearn for alpha(0.01, 0.1, 1.0)"
      ],
      "metadata": {
        "id": "mrM7oNs8rCn6"
      }
    },
    {
      "cell_type": "code",
      "source": [
        "from sklearn.linear_model import Lasso"
      ],
      "metadata": {
        "id": "KgQ1nd4XrG6s"
      },
      "execution_count": null,
      "outputs": []
    },
    {
      "cell_type": "code",
      "source": [
        "alphas = [0.01,0.1,1.0]\n",
        "lasso = Lasso(max_iter=30000)\n",
        "\n",
        "for a in alphas:\n",
        "    lasso.set_params(alpha=a)\n",
        "    lasso.fit(X_train, y_train)\n",
        "    print('alpha = ', a)\n",
        "    pred_train = lasso.predict(X_train)\n",
        "    print('MSE Train: ',mean_squared_error(y_train, pred_train)) \n",
        "    pred = lasso.predict(X_test)\n",
        "    print('MSE Test: ',mean_squared_error(y_test, pred)) \n",
        "  "
      ],
      "metadata": {
        "colab": {
          "base_uri": "https://localhost:8080/"
        },
        "id": "AGTctih4sKgj",
        "outputId": "120a9144-0f39-4750-ade6-98bbbf399efd"
      },
      "execution_count": null,
      "outputs": [
        {
          "output_type": "stream",
          "name": "stderr",
          "text": [
            "/usr/local/lib/python3.7/dist-packages/sklearn/linear_model/_coordinate_descent.py:648: ConvergenceWarning: Objective did not converge. You might want to increase the number of iterations, check the scale of the features or consider increasing regularisation. Duality gap: 1.471e+11, tolerance: 7.005e+08\n",
            "  coef_, l1_reg, l2_reg, X, y, max_iter, tol, rng, random, positive\n"
          ]
        },
        {
          "output_type": "stream",
          "name": "stdout",
          "text": [
            "alpha =  0.01\n",
            "MSE Train:  372621090.0356523\n",
            "MSE Test:  2994171513.4726076\n"
          ]
        },
        {
          "output_type": "stream",
          "name": "stderr",
          "text": [
            "/usr/local/lib/python3.7/dist-packages/sklearn/linear_model/_coordinate_descent.py:648: ConvergenceWarning: Objective did not converge. You might want to increase the number of iterations, check the scale of the features or consider increasing regularisation. Duality gap: 2.627e+10, tolerance: 7.005e+08\n",
            "  coef_, l1_reg, l2_reg, X, y, max_iter, tol, rng, random, positive\n"
          ]
        },
        {
          "output_type": "stream",
          "name": "stdout",
          "text": [
            "alpha =  0.1\n",
            "MSE Train:  372621681.8257121\n",
            "MSE Test:  2976057866.847126\n",
            "alpha =  1.0\n",
            "MSE Train:  372668227.6907974\n",
            "MSE Test:  2775938907.466496\n"
          ]
        }
      ]
    },
    {
      "cell_type": "markdown",
      "source": [
        "\n",
        "\n",
        "###ElasticNet regression from sklearn for alpha (0.01, 0.1, 1.0)"
      ],
      "metadata": {
        "id": "JD7oHrwg4KOw"
      }
    },
    {
      "cell_type": "code",
      "source": [
        "from sklearn.linear_model import ElasticNet"
      ],
      "metadata": {
        "id": "6lO4LdOq4JBu"
      },
      "execution_count": null,
      "outputs": []
    },
    {
      "cell_type": "code",
      "source": [
        "model = ElasticNet(alpha=1.0, max_iter=30000)\n",
        "alphas = [0.01,0.1,1.0]\n",
        "\n",
        "for a in alphas:\n",
        "    model.set_params(alpha=a)\n",
        "    model.fit(X_train, y_train)\n",
        "    print('alpha = ', a)\n",
        "    pred_train = model.predict(X_train)\n",
        "    print('MSE Train: ',mean_squared_error(y_train, pred_train)) \n",
        "    pred = model.predict(X_test)\n",
        "    print('MSE Test: ',mean_squared_error(y_test, pred)) "
      ],
      "metadata": {
        "colab": {
          "base_uri": "https://localhost:8080/"
        },
        "id": "1liTdGEl4hDz",
        "outputId": "888474a5-129b-40e4-d079-6a01ba968e8e"
      },
      "execution_count": null,
      "outputs": [
        {
          "output_type": "stream",
          "name": "stdout",
          "text": [
            "alpha =  0.01\n",
            "MSE Train:  389864120.093172\n",
            "MSE Test:  738377113.7915803\n",
            "alpha =  0.1\n",
            "MSE Train:  404182164.4434313\n",
            "MSE Test:  704771762.4208391\n",
            "alpha =  1.0\n",
            "MSE Train:  548386193.5555669\n",
            "MSE Test:  749407131.1354992\n"
          ]
        }
      ]
    }
  ]
}